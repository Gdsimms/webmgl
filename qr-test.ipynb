{
 "cells": [
  {
   "cell_type": "code",
   "execution_count": 31,
   "metadata": {},
   "outputs": [],
   "source": [
    "import pyqrcode\n",
    "from IPython.display import display, Image\n",
    "import png\n",
    "from pathlib import Path\n",
    "import base64"
   ]
  },
  {
   "cell_type": "code",
   "execution_count": 32,
   "metadata": {},
   "outputs": [
    {
     "name": "stdout",
     "output_type": "stream",
     "text": [
      "Alex Kidd in Miracle World (USA, Europe, Brazil) (Rev 1)\n",
      "Baseball Stars 2 (bstars2)\n",
      "Bonk's Revenge (USA)\n",
      "Congo Bongo (1984)\n",
      "David Crane's Pitfall II - Lost Caverns (USA)\n",
      "Fix-it_Felix_Jr\n",
      "Fort Apocalypse (1982)(Synapse Software)\n",
      "Gran Turismo (USA) (v1.1)\n",
      "Legend of Zelda, The - A Link to the Past (USA)\n",
      "Legend of Zelda, The - The Minish Cap (USA)\n",
      "luma_1.1\n",
      "Mine Storm II (USA) (Rev 2)\n",
      "One-on-One Basketball (NTSC) (Atari) (1987)\n",
      "Radar Rat Race (1982)(Commodore)\n",
      "Sonic 3D Blast (USA) (Beta)\n",
      "Super Mario Bros 2 (Lost Levels) (Unl)\n",
      "Super Mario Bros. 2 (Japan) (Virtual Console)\n",
      "Super Mario Bros. 2 (USA) (Rev 1)\n",
      "Super Mario RPG - Legend of the Seven Stars (USA)\n"
     ]
    }
   ],
   "source": [
    "mgl_files = list(Path.cwd().glob(\"*.mgl\"))\n",
    "mgl_files\n",
    "\n",
    "for mgl in mgl_files:\n",
    "    print(mgl.stem)"
   ]
  },
  {
   "cell_type": "code",
   "execution_count": 36,
   "metadata": {},
   "outputs": [
    {
     "name": "stdout",
     "output_type": "stream",
     "text": [
      "http://192.168.68.107:8008/PG1pc3RlcmdhbWVkZXNjcmlwdGlvbj4KCTxyYmY-X0NvbnNvbGUvU01TPC9yYmY-Cgk8ZmlsZSBkZWxheT0iMSIgdHlwZT0iZiIgaW5kZXg9IjEiIHBhdGg9Ii4uLy4uLy4uLy4uL21lZGlhL2ZhdC9nYW1lcy9TTVMvTWFzdGVyIFN5c3RlbS9ATWFzdGVyIFN5c3RlbSAtIE1hc3RlciBFdmVyRHJpdmUgMjAyMC0wNi0wMy56aXAvNCBHYW1lIFNlcmllcyBDb2xsZWN0aW9ucy9CZXN0LU9mIExpc3RzL0dhbWVzIFRoYXQgRGVmaW5lZCB0aGUgU3lzdGVtIC0gUmFja2V0Qm95LmNvbS9BbGV4IEtpZGQgaW4gTWlyYWNsZSBXb3JsZCAoVVNBLCBFdXJvcGUsIEJyYXppbCkgKFJldiAxKS5zbXMiLz4KPC9taXN0ZXJnYW1lZGVzY3JpcHRpb24-\n",
      "<mistergamedescription>\n",
      "\t<rbf>_Console/SMS</rbf>\n",
      "\t<file delay=\"1\" type=\"f\" index=\"1\" path=\"../../../../media/fat/games/SMS/Master System/@Master System - Master EverDrive 2020-06-03.zip/4 Game Series Collections/Best-Of Lists/Games That Defined the System - RacketBoy.com/Alex Kidd in Miracle World (USA, Europe, Brazil) (Rev 1).sms\"/>\n",
      "</mistergamedescription>\n"
     ]
    },
    {
     "data": {
      "image/png": "[encoded data removed]",
      "text/plain": [
       "<IPython.core.display.Image object>"
      ]
     },
     "metadata": {},
     "output_type": "display_data"
    },
    {
     "name": "stdout",
     "output_type": "stream",
     "text": [
      "http://192.168.68.107:8008/PG1pc3RlcmdhbWVkZXNjcmlwdGlvbj4KCTxyYmY-X0NvbnNvbGUvTmVvR2VvPC9yYmY-Cgk8ZmlsZSBkZWxheT0iMSIgdHlwZT0iZiIgaW5kZXg9IjEiIHBhdGg9Ii4uLy4uLy4uLy4uL21lZGlhL3VzYjAvZ2FtZXMvTmVvR2VvLzEgV29ybGQgQS1aL0Jhc2ViYWxsIFN0YXJzIDIgKGJzdGFyczIpLm5lbyIvPgo8L21pc3RlcmdhbWVkZXNjcmlwdGlvbj4=\n",
      "<mistergamedescription>\n",
      "\t<rbf>_Console/NeoGeo</rbf>\n",
      "\t<file delay=\"1\" type=\"f\" index=\"1\" path=\"../../../../media/usb0/games/NeoGeo/1 World A-Z/Baseball Stars 2 (bstars2).neo\"/>\n",
      "</mistergamedescription>\n"
     ]
    },
    {
     "data": {
      "image/png": "[encoded data removed]",
      "text/plain": [
       "<IPython.core.display.Image object>"
      ]
     },
     "metadata": {},
     "output_type": "display_data"
    },
    {
     "name": "stdout",
     "output_type": "stream",
     "text": [
      "http://192.168.68.107:8008/PG1pc3RlcmdhbWVkZXNjcmlwdGlvbj4KCTxyYmY-X0NvbnNvbGUvVHVyYm9HcmFmeDE2PC9yYmY-Cgk8ZmlsZSBkZWxheT0iMSIgdHlwZT0iZiIgaW5kZXg9IjAiIHBhdGg9Ii4uLy4uLy4uLy4uL21lZGlhL2ZhdC9nYW1lcy9UR0ZYMTYvQFR1cmJvR3JhZnggLSBQQyBFbmdpbmUgLSBUdXJibyBFdmVyRHJpdmUgMjAyMC0wNi0wNi56aXAvNCBHYW1lIFNlcmllcyBDb2xsZWN0aW9ucy9CZXN0LU9mIExpc3RzL1RvcCBHYW1lcyAtIElHTi5jb20vQm9uaydzIFJldmVuZ2UgKFVTQSkucGNlIi8-CjwvbWlzdGVyZ2FtZWRlc2NyaXB0aW9uPg==\n",
      "<mistergamedescription>\n",
      "\t<rbf>_Console/TurboGrafx16</rbf>\n",
      "\t<file delay=\"1\" type=\"f\" index=\"0\" path=\"../../../../media/fat/games/TGFX16/@TurboGrafx - PC Engine - Turbo EverDrive 2020-06-06.zip/4 Game Series Collections/Best-Of Lists/Top Games - IGN.com/Bonk's Revenge (USA).pce\"/>\n",
      "</mistergamedescription>\n"
     ]
    },
    {
     "data": {
      "image/png": "[encoded data removed]",
      "text/plain": [
       "<IPython.core.display.Image object>"
      ]
     },
     "metadata": {},
     "output_type": "display_data"
    },
    {
     "name": "stdout",
     "output_type": "stream",
     "text": [
      "http://192.168.68.107:8008/PG1pc3RlcmdhbWVkZXNjcmlwdGlvbj4KCTxyYmY-X0NvbnNvbGUvQ29sZWNvVmlzaW9uPC9yYmY-Cgk8ZmlsZSBkZWxheT0iMiIgdHlwZT0iZiIgaW5kZXg9IjAiIHBhdGg9Ii4uLy4uLy4uLy4uL21lZGlhL2ZhdC9nYW1lcy9Db2xlY28vQ29uZ28gQm9uZ28gKDE5ODQpLmNvbCIvPgo8L21pc3RlcmdhbWVkZXNjcmlwdGlvbj4=\n",
      "<mistergamedescription>\n",
      "\t<rbf>_Console/ColecoVision</rbf>\n",
      "\t<file delay=\"2\" type=\"f\" index=\"0\" path=\"../../../../media/fat/games/Coleco/Congo Bongo (1984).col\"/>\n",
      "</mistergamedescription>\n"
     ]
    },
    {
     "data": {
      "image/png": "[encoded data removed]",
      "text/plain": [
       "<IPython.core.display.Image object>"
      ]
     },
     "metadata": {},
     "output_type": "display_data"
    },
    {
     "name": "stdout",
     "output_type": "stream",
     "text": [
      "http://192.168.68.107:8008/PG1pc3RlcmdhbWVkZXNjcmlwdGlvbj4KCTxyYmY-X0NvbnNvbGUvQXRhcmk1MjAwPC9yYmY-Cgk8ZmlsZSBkZWxheT0iMSIgdHlwZT0icyIgaW5kZXg9IjEiIHBhdGg9Ii4uLy4uLy4uLy4uL21lZGlhL2ZhdC9nYW1lcy9BVEFSSTUyMDAvRGF2aWQgQ3JhbmUncyBQaXRmYWxsIElJIC0gTG9zdCBDYXZlcm5zIChVU0EpLmNhciIvPgo8L21pc3RlcmdhbWVkZXNjcmlwdGlvbj4=\n",
      "<mistergamedescription>\n",
      "\t<rbf>_Console/Atari5200</rbf>\n",
      "\t<file delay=\"1\" type=\"s\" index=\"1\" path=\"../../../../media/fat/games/ATARI5200/David Crane's Pitfall II - Lost Caverns (USA).car\"/>\n",
      "</mistergamedescription>\n"
     ]
    },
    {
     "data": {
      "image/png": "[encoded data removed]",
      "text/plain": [
       "<IPython.core.display.Image object>"
      ]
     },
     "metadata": {},
     "output_type": "display_data"
    },
    {
     "name": "stdout",
     "output_type": "stream",
     "text": [
      "http://192.168.68.107:8008/PG1pc3RlcmdhbWVkZXNjcmlwdGlvbj4KCTxyYmY-X0NvbXB1dGVyL0M2NDwvcmJmPgoJPGZpbGUgZGVsYXk9IjEiIHR5cGU9ImYiIGluZGV4PSIxIiBwYXRoPSIuLi8uLi8uLi8uLi9tZWRpYS9mYXQvZ2FtZXMvQzY0L19PdGhlci9GaXgtaXRfRmVsaXhfSnIuemlwL0ZpeC1pdF9GZWxpeF9Kci9GaXgtaXRfRmVsaXhfSnIucHJnIi8-CjwvbWlzdGVyZ2FtZWRlc2NyaXB0aW9uPg==\n",
      "<mistergamedescription>\n",
      "\t<rbf>_Computer/C64</rbf>\n",
      "\t<file delay=\"1\" type=\"f\" index=\"1\" path=\"../../../../media/fat/games/C64/_Other/Fix-it_Felix_Jr.zip/Fix-it_Felix_Jr/Fix-it_Felix_Jr.prg\"/>\n",
      "</mistergamedescription>\n"
     ]
    },
    {
     "data": {
      "image/png": "[encoded data removed]",
      "text/plain": [
       "<IPython.core.display.Image object>"
      ]
     },
     "metadata": {},
     "output_type": "display_data"
    },
    {
     "name": "stdout",
     "output_type": "stream",
     "text": [
      "http://192.168.68.107:8008/PG1pc3RlcmdhbWVkZXNjcmlwdGlvbj4KCTxyYmY-X0NvbXB1dGVyL0M2NDwvcmJmPgoJPGZpbGUgZGVsYXk9IjEiIHR5cGU9ImYiIGluZGV4PSIxIiBwYXRoPSIuLi8uLi8uLi8uLi9tZWRpYS9mYXQvZ2FtZXMvQzY0L0BNaVNUZXIgUGFjayBBZGQtb24gLSBDNjQgMjAyMC0wNC0xNS56aXAvQ1JUL0ZvcnQgQXBvY2FseXBzZSAoMTk4MikoU3luYXBzZSBTb2Z0d2FyZSkuY3J0Ii8-CjwvbWlzdGVyZ2FtZWRlc2NyaXB0aW9uPg==\n",
      "<mistergamedescription>\n",
      "\t<rbf>_Computer/C64</rbf>\n",
      "\t<file delay=\"1\" type=\"f\" index=\"1\" path=\"../../../../media/fat/games/C64/@MiSTer Pack Add-on - C64 2020-04-15.zip/CRT/Fort Apocalypse (1982)(Synapse Software).crt\"/>\n",
      "</mistergamedescription>\n"
     ]
    },
    {
     "data": {
      "image/png": "[encoded data removed]",
      "text/plain": [
       "<IPython.core.display.Image object>"
      ]
     },
     "metadata": {},
     "output_type": "display_data"
    },
    {
     "name": "stdout",
     "output_type": "stream",
     "text": [
      "http://192.168.68.107:8008/PG1pc3RlcmdhbWVkZXNjcmlwdGlvbj4KCTxyYmY-X0NvbnNvbGUvUFNYPC9yYmY-Cgk8ZmlsZSBkZWxheT0iMSIgdHlwZT0icyIgaW5kZXg9IjEiIHBhdGg9Ii4uLy4uLy4uLy4uL21lZGlhL3VzYjAvZ2FtZXMvUFNYL0dyYW4gVHVyaXNtbyAoVVNBKSAodjEuMSkuY2hkIi8-CjwvbWlzdGVyZ2FtZWRlc2NyaXB0aW9uPg==\n",
      "<mistergamedescription>\n",
      "\t<rbf>_Console/PSX</rbf>\n",
      "\t<file delay=\"1\" type=\"s\" index=\"1\" path=\"../../../../media/usb0/games/PSX/Gran Turismo (USA) (v1.1).chd\"/>\n",
      "</mistergamedescription>\n"
     ]
    },
    {
     "data": {
      "image/png": "[encoded data removed]",
      "text/plain": [
       "<IPython.core.display.Image object>"
      ]
     },
     "metadata": {},
     "output_type": "display_data"
    },
    {
     "name": "stdout",
     "output_type": "stream",
     "text": [
      "http://192.168.68.107:8008/PG1pc3RlcmdhbWVkZXNjcmlwdGlvbj4KCTxyYmY-X0NvbnNvbGUvU05FUzwvcmJmPgoJPGZpbGUgZGVsYXk9IjIiIHR5cGU9ImYiIGluZGV4PSIwIiBwYXRoPSIuLi8uLi8uLi8uLi9tZWRpYS9mYXQvZ2FtZXMvU05FUy9AU05FUyAtIFNEMlNORVMgLSBTdXBlciBFdmVyRHJpdmUgR2FtZSBTZXJpZXMgQ29sbGVjdGlvbnMgMjAyMC0wNC0zMC56aXAvNCBHYW1lIFNlcmllcyBDb2xsZWN0aW9ucy9CZXN0LU9mIExpc3RzL0dhbWVzIFRoYXQgRGVmaW5lZCB0aGUgU05FUyAtIFJhY2tldGJveS5jb20vTGVnZW5kIG9mIFplbGRhLCBUaGUgLSBBIExpbmsgdG8gdGhlIFBhc3QgKFVTQSkuc2ZjIi8-CjwvbWlzdGVyZ2FtZWRlc2NyaXB0aW9uPg==\n",
      "<mistergamedescription>\n",
      "\t<rbf>_Console/SNES</rbf>\n",
      "\t<file delay=\"2\" type=\"f\" index=\"0\" path=\"../../../../media/fat/games/SNES/@SNES - SD2SNES - Super EverDrive Game Series Collections 2020-04-30.zip/4 Game Series Collections/Best-Of Lists/Games That Defined the SNES - Racketboy.com/Legend of Zelda, The - A Link to the Past (USA).sfc\"/>\n",
      "</mistergamedescription>\n"
     ]
    },
    {
     "data": {
      "image/png": "[encoded data removed]",
      "text/plain": [
       "<IPython.core.display.Image object>"
      ]
     },
     "metadata": {},
     "output_type": "display_data"
    },
    {
     "name": "stdout",
     "output_type": "stream",
     "text": [
      "http://192.168.68.107:8008/PG1pc3RlcmdhbWVkZXNjcmlwdGlvbj4KCTxyYmY-X0NvbnNvbGUvR0JBPC9yYmY-Cgk8ZmlsZSBkZWxheT0iMiIgdHlwZT0iZiIgaW5kZXg9IjEiIHBhdGg9Ii4uLy4uLy4uLy4uL21lZGlhL3VzYjAvZ2FtZXMvR0JBL0BHQkEgLSBFdmVyRHJpdmUgR0JBIDIwMjAtMDktMDkuemlwLzEgVVNBIC0gSS1PL0xlZ2VuZCBvZiBaZWxkYSwgVGhlIC0gVGhlIE1pbmlzaCBDYXAgKFVTQSkuZ2JhIi8-CjwvbWlzdGVyZ2FtZWRlc2NyaXB0aW9uPg==\n",
      "<mistergamedescription>\n",
      "\t<rbf>_Console/GBA</rbf>\n",
      "\t<file delay=\"2\" type=\"f\" index=\"1\" path=\"../../../../media/usb0/games/GBA/@GBA - EverDrive GBA 2020-09-09.zip/1 USA - I-O/Legend of Zelda, The - The Minish Cap (USA).gba\"/>\n",
      "</mistergamedescription>\n"
     ]
    },
    {
     "data": {
      "image/png": "[encoded data removed]",
      "text/plain": [
       "<IPython.core.display.Image object>"
      ]
     },
     "metadata": {},
     "output_type": "display_data"
    },
    {
     "name": "stdout",
     "output_type": "stream",
     "text": [
      "http://192.168.68.107:8008/PG1pc3RlcmdhbWVkZXNjcmlwdGlvbj4KCTxyYmY-X0NvbXB1dGVyL0M2NDwvcmJmPgoJPGZpbGUgZGVsYXk9IjEiIHR5cGU9ImYiIGluZGV4PSIxIiBwYXRoPSIuLi8uLi8uLi8uLi9tZWRpYS9mYXQvZ2FtZXMvQzY0L19PdGhlci9sdW1hXzEuMS5wcmciLz4KPC9taXN0ZXJnYW1lZGVzY3JpcHRpb24-\n",
      "<mistergamedescription>\n",
      "\t<rbf>_Computer/C64</rbf>\n",
      "\t<file delay=\"1\" type=\"f\" index=\"1\" path=\"../../../../media/fat/games/C64/_Other/luma_1.1.prg\"/>\n",
      "</mistergamedescription>\n"
     ]
    },
    {
     "data": {
      "image/png": "[encoded data removed]",
      "text/plain": [
       "<IPython.core.display.Image object>"
      ]
     },
     "metadata": {},
     "output_type": "display_data"
    },
    {
     "name": "stdout",
     "output_type": "stream",
     "text": [
      "http://192.168.68.107:8008/PG1pc3RlcmdhbWVkZXNjcmlwdGlvbj4KCTxyYmY-X0NvbnNvbGUvVmVjdHJleDwvcmJmPgoJPGZpbGUgZGVsYXk9IjEiIHR5cGU9ImYiIGluZGV4PSIxIiBwYXRoPSIuLi8uLi8uLi8uLi9tZWRpYS9mYXQvZ2FtZXMvVkVDVFJFWC9AVmVjdHJleCAtIFZleHRyZW1lIDIwMjAtMDQtMjguemlwL1ZlY3RyZXgvNCBHYW1lIFNlcmllcyBDb2xsZWN0aW9ucy9CZXN0LU9mIExpc3RzL0Jlc3QgVmVjdHJleCBHYW1lcyAtIEF0YXJpQWdlIEZvcnVtcy9NaW5lIFN0b3JtIElJIChVU0EpIChSZXYgMikudmVjIi8-CjwvbWlzdGVyZ2FtZWRlc2NyaXB0aW9uPg==\n",
      "<mistergamedescription>\n",
      "\t<rbf>_Console/Vectrex</rbf>\n",
      "\t<file delay=\"1\" type=\"f\" index=\"1\" path=\"../../../../media/fat/games/VECTREX/@Vectrex - Vextreme 2020-04-28.zip/Vectrex/4 Game Series Collections/Best-Of Lists/Best Vectrex Games - AtariAge Forums/Mine Storm II (USA) (Rev 2).vec\"/>\n",
      "</mistergamedescription>\n"
     ]
    },
    {
     "data": {
      "image/png": "[encoded data removed]",
      "text/plain": [
       "<IPython.core.display.Image object>"
      ]
     },
     "metadata": {},
     "output_type": "display_data"
    },
    {
     "name": "stdout",
     "output_type": "stream",
     "text": [
      "http://192.168.68.107:8008/PG1pc3RlcmdhbWVkZXNjcmlwdGlvbj4KCTxyYmY-X0NvbnNvbGUvQXRhcmk3ODAwPC9yYmY-Cgk8ZmlsZSBkZWxheT0iMSIgdHlwZT0iZiIgaW5kZXg9IjEiIHBhdGg9Ii4uLy4uLy4uLy4uL21lZGlhL2ZhdC9nYW1lcy9BVEFSSTc4MDAvT25lLW9uLU9uZSBCYXNrZXRiYWxsIChOVFNDKSAoQXRhcmkpICgxOTg3KS5hNzgiLz4KPC9taXN0ZXJnYW1lZGVzY3JpcHRpb24-\n",
      "<mistergamedescription>\n",
      "\t<rbf>_Console/Atari7800</rbf>\n",
      "\t<file delay=\"1\" type=\"f\" index=\"1\" path=\"../../../../media/fat/games/ATARI7800/One-on-One Basketball (NTSC) (Atari) (1987).a78\"/>\n",
      "</mistergamedescription>\n"
     ]
    },
    {
     "data": {
      "image/png": "[encoded data removed]",
      "text/plain": [
       "<IPython.core.display.Image object>"
      ]
     },
     "metadata": {},
     "output_type": "display_data"
    },
    {
     "name": "stdout",
     "output_type": "stream",
     "text": [
      "http://192.168.68.107:8008/PG1pc3RlcmdhbWVkZXNjcmlwdGlvbj4KCTxyYmY-X0NvbXB1dGVyL0M2NDwvcmJmPgoJPGZpbGUgZGVsYXk9IjEiIHR5cGU9ImYiIGluZGV4PSIxIiBwYXRoPSIuLi8uLi8uLi8uLi9tZWRpYS9mYXQvZ2FtZXMvQzY0L0BNaVNUZXIgUGFjayBBZGQtb24gLSBDNjQgMjAyMC0wNC0xNS56aXAvQ1JUL1JhZGFyIFJhdCBSYWNlICgxOTgyKShDb21tb2RvcmUpLmNydCIvPgo8L21pc3RlcmdhbWVkZXNjcmlwdGlvbj4=\n",
      "<mistergamedescription>\n",
      "\t<rbf>_Computer/C64</rbf>\n",
      "\t<file delay=\"1\" type=\"f\" index=\"1\" path=\"../../../../media/fat/games/C64/@MiSTer Pack Add-on - C64 2020-04-15.zip/CRT/Radar Rat Race (1982)(Commodore).crt\"/>\n",
      "</mistergamedescription>\n"
     ]
    },
    {
     "data": {
      "image/png": "[encoded data removed]",
      "text/plain": [
       "<IPython.core.display.Image object>"
      ]
     },
     "metadata": {},
     "output_type": "display_data"
    },
    {
     "name": "stdout",
     "output_type": "stream",
     "text": [
      "http://192.168.68.107:8008/PG1pc3RlcmdhbWVkZXNjcmlwdGlvbj4KCTxyYmY-X0NvbnNvbGUvR2VuZXNpczwvcmJmPgoJPGZpbGUgZGVsYXk9IjEiIHR5cGU9ImYiIGluZGV4PSIwIiBwYXRoPSIuLi8uLi8uLi8uLi9tZWRpYS9mYXQvZ2FtZXMvR2VuZXNpcy9AR2VuZXNpcyAtIE1lZ2FTRCAtIE1lZ2EgRXZlckRyaXZlIEdhbWUgU2VyaWVzIENvbGxlY3Rpb25zIDIwMjAtMDUtMDMuemlwLzQgR2FtZSBTZXJpZXMgQ29sbGVjdGlvbnMvRnJhbmNoaXNlL1NvbmljL1NvbmljIDNEIEJsYXN0IChVU0EpIChCZXRhKS5tZCIvPgo8L21pc3RlcmdhbWVkZXNjcmlwdGlvbj4=\n",
      "<mistergamedescription>\n",
      "\t<rbf>_Console/Genesis</rbf>\n",
      "\t<file delay=\"1\" type=\"f\" index=\"0\" path=\"../../../../media/fat/games/Genesis/@Genesis - MegaSD - Mega EverDrive Game Series Collections 2020-05-03.zip/4 Game Series Collections/Franchise/Sonic/Sonic 3D Blast (USA) (Beta).md\"/>\n",
      "</mistergamedescription>\n"
     ]
    },
    {
     "data": {
      "image/png": "[encoded data removed]",
      "text/plain": [
       "<IPython.core.display.Image object>"
      ]
     },
     "metadata": {},
     "output_type": "display_data"
    },
    {
     "name": "stdout",
     "output_type": "stream",
     "text": [
      "http://192.168.68.107:8008/PG1pc3RlcmdhbWVkZXNjcmlwdGlvbj4KCTxyYmY-X0NvbnNvbGUvTkVTPC9yYmY-Cgk8ZmlsZSBkZWxheT0iMSIgdHlwZT0iZiIgaW5kZXg9IjAiIHBhdGg9Ii4uLy4uLy4uLy4uL21lZGlhL2ZhdC9nYW1lcy9ORVMvQE5FUyAtIEV2ZXJEcml2ZSBOOCAyMDIwLTA4LTA1LnppcC8yIFVubGljZW5zZWQgLSBBLVovMSBVbmxpY2Vuc2VkIFMtWi9TdXBlciBNYXJpbyBCcm9zIDIgKExvc3QgTGV2ZWxzKSAoVW5sKS5uZXMiLz4KPC9taXN0ZXJnYW1lZGVzY3JpcHRpb24-\n",
      "<mistergamedescription>\n",
      "\t<rbf>_Console/NES</rbf>\n",
      "\t<file delay=\"1\" type=\"f\" index=\"0\" path=\"../../../../media/fat/games/NES/@NES - EverDrive N8 2020-08-05.zip/2 Unlicensed - A-Z/1 Unlicensed S-Z/Super Mario Bros 2 (Lost Levels) (Unl).nes\"/>\n",
      "</mistergamedescription>\n"
     ]
    },
    {
     "data": {
      "image/png": "[encoded data removed]",
      "text/plain": [
       "<IPython.core.display.Image object>"
      ]
     },
     "metadata": {},
     "output_type": "display_data"
    },
    {
     "name": "stdout",
     "output_type": "stream",
     "text": [
      "http://192.168.68.107:8008/PG1pc3RlcmdhbWVkZXNjcmlwdGlvbj4KCTxyYmY-X0NvbnNvbGUvTkVTPC9yYmY-Cgk8ZmlsZSBkZWxheT0iMSIgdHlwZT0iZiIgaW5kZXg9IjAiIHBhdGg9Ii4uLy4uLy4uLy4uL21lZGlhL2ZhdC9nYW1lcy9ORVMvQE5FUyAtIEV2ZXJEcml2ZSBOOCAyMDIwLTA4LTA1LnppcC8yIEphcGFuIC0gQS1aL0phcGFuIFAtUy9TdXBlciBNYXJpbyBCcm9zLiAyIChKYXBhbikgKFZpcnR1YWwgQ29uc29sZSkubmVzIi8-CjwvbWlzdGVyZ2FtZWRlc2NyaXB0aW9uPg==\n",
      "<mistergamedescription>\n",
      "\t<rbf>_Console/NES</rbf>\n",
      "\t<file delay=\"1\" type=\"f\" index=\"0\" path=\"../../../../media/fat/games/NES/@NES - EverDrive N8 2020-08-05.zip/2 Japan - A-Z/Japan P-S/Super Mario Bros. 2 (Japan) (Virtual Console).nes\"/>\n",
      "</mistergamedescription>\n"
     ]
    },
    {
     "data": {
      "image/png": "[encoded data removed]",
      "text/plain": [
       "<IPython.core.display.Image object>"
      ]
     },
     "metadata": {},
     "output_type": "display_data"
    },
    {
     "name": "stdout",
     "output_type": "stream",
     "text": [
      "http://192.168.68.107:8008/PG1pc3RlcmdhbWVkZXNjcmlwdGlvbj4KCTxyYmY-X0NvbnNvbGUvTkVTPC9yYmY-Cgk8ZmlsZSBkZWxheT0iMSIgdHlwZT0iZiIgaW5kZXg9IjAiIHBhdGg9Ii4uLy4uLy4uLy4uL21lZGlhL2ZhdC9nYW1lcy9ORVMvQE5FUyAtIEV2ZXJEcml2ZSBOOCAyMDIwLTA4LTA1LnppcC8xIFVTIC0gUi1aL1N1cGVyIE1hcmlvIEJyb3MuIDIgKFVTQSkgKFJldiAxKS5uZXMiLz4KPC9taXN0ZXJnYW1lZGVzY3JpcHRpb24-\n",
      "<mistergamedescription>\n",
      "\t<rbf>_Console/NES</rbf>\n",
      "\t<file delay=\"1\" type=\"f\" index=\"0\" path=\"../../../../media/fat/games/NES/@NES - EverDrive N8 2020-08-05.zip/1 US - R-Z/Super Mario Bros. 2 (USA) (Rev 1).nes\"/>\n",
      "</mistergamedescription>\n"
     ]
    },
    {
     "data": {
      "image/png": "[encoded data removed]",
      "text/plain": [
       "<IPython.core.display.Image object>"
      ]
     },
     "metadata": {},
     "output_type": "display_data"
    },
    {
     "name": "stdout",
     "output_type": "stream",
     "text": [
      "http://192.168.68.107:8008/PG1pc3RlcmdhbWVkZXNjcmlwdGlvbj4KCTxyYmY-X0NvbnNvbGUvU05FUzwvcmJmPgoJPGZpbGUgZGVsYXk9IjIiIHR5cGU9ImYiIGluZGV4PSIwIiBwYXRoPSIuLi8uLi8uLi8uLi9tZWRpYS9mYXQvZ2FtZXMvU05FUy9AU05FUyAtIFNEMlNORVMgLSBTdXBlciBFdmVyRHJpdmUgR2FtZSBTZXJpZXMgQ29sbGVjdGlvbnMgMjAyMC0wNC0zMC56aXAvNCBHYW1lIFNlcmllcyBDb2xsZWN0aW9ucy9CZXN0LU9mIExpc3RzL0Jlc3QgUlBHJ3MgLSBSYWNrZXRib3kuY29tL1N1cGVyIE1hcmlvIFJQRyAtIExlZ2VuZCBvZiB0aGUgU2V2ZW4gU3RhcnMgKFVTQSkuc2ZjIi8-CjwvbWlzdGVyZ2FtZWRlc2NyaXB0aW9uPg==\n",
      "<mistergamedescription>\n",
      "\t<rbf>_Console/SNES</rbf>\n",
      "\t<file delay=\"2\" type=\"f\" index=\"0\" path=\"../../../../media/fat/games/SNES/@SNES - SD2SNES - Super EverDrive Game Series Collections 2020-04-30.zip/4 Game Series Collections/Best-Of Lists/Best RPG's - Racketboy.com/Super Mario RPG - Legend of the Seven Stars (USA).sfc\"/>\n",
      "</mistergamedescription>\n"
     ]
    },
    {
     "data": {
      "image/png": "[encoded data removed]",
      "text/plain": [
       "<IPython.core.display.Image object>"
      ]
     },
     "metadata": {},
     "output_type": "display_data"
    }
   ],
   "source": [
    "for mgl in mgl_files:\n",
    "    with open(mgl, 'r') as f:\n",
    "        mgl_text = f.read()\n",
    "\n",
    "    my_url = 'http://192.168.68.107:8008/'+base64.urlsafe_b64encode(mgl_text.encode()).decode()\n",
    "    print(my_url)\n",
    "    print(mgl_text)\n",
    "    # my_qr = pyqrcode.create(my_url, error='H', version=25)\n",
    "    my_qr = pyqrcode.create(my_url, error='H')\n",
    "    pngfile = mgl.stem +'.png'\n",
    "    my_qr.png(pngfile, scale=3)\n",
    "    display(Image(filename=pngfile))"
   ]
  },
  {
   "cell_type": "code",
   "execution_count": 19,
   "metadata": {},
   "outputs": [
    {
     "data": {
      "text/plain": [
       "False"
      ]
     },
     "execution_count": 19,
     "metadata": {},
     "output_type": "execute_result"
    }
   ],
   "source": [
    "os.path.exists(\"/media/fat/\")"
   ]
  },
  {
   "cell_type": "code",
   "execution_count": null,
   "metadata": {},
   "outputs": [],
   "source": []
  },
  {
   "cell_type": "code",
   "execution_count": 30,
   "metadata": {},
   "outputs": [
    {
     "name": "stdout",
     "output_type": "stream",
     "text": [
      "http://192.168.68.106:8008/eNrTz01NyUzUT0ss0Y93LEpOTEnVdyotSk8tilEIycxN1cstSgQA3bIMdw==\n",
      "/media/fat/_Arcade/Burger\\ Time.mra\n",
      "\\media\\fat\\_Arcade\\Burger\\ Time.mra\n",
      "/media/fat/_Arcade/Burger/ Time.mra\n",
      "('\\\\', 'media', 'fat', '_Arcade', 'Burger', ' Time.mra')\n"
     ]
    },
    {
     "data": {
      "image/png": "[encoded data removed]",
      "text/plain": [
       "<IPython.core.display.Image object>"
      ]
     },
     "metadata": {},
     "output_type": "display_data"
    }
   ],
   "source": [
    "path_text = \"/media/fat/_Arcade/Burger\\\\ Time.mra\"\n",
    "my_path = Path(path_text)\n",
    "my_url = 'http://192.168.68.106:8008/' + base64.urlsafe_b64encode(path_text.encode()).decode()\n",
    "print(my_url)\n",
    "print(path_text)\n",
    "print(my_path)\n",
    "print(my_path.as_posix())\n",
    "print(my_path.parts)\n",
    "my_qr = pyqrcode.create(my_url, error='H', version=25)\n",
    "pngfile = 'TEMPORARY' +'.png'\n",
    "my_qr.png(pngfile, scale=3)\n",
    "display(Image(filename=pngfile))"
   ]
  },
  {
   "cell_type": "code",
   "execution_count": null,
   "metadata": {},
   "outputs": [],
   "source": []
  }
 ],
 "metadata": {
  "kernelspec": {
   "display_name": "Python 3.10.6 ('mister')",
   "language": "python",
   "name": "python3"
  },
  "language_info": {
   "codemirror_mode": {
    "name": "ipython",
    "version": 3
   },
   "file_extension": ".py",
   "mimetype": "text/x-python",
   "name": "python",
   "nbconvert_exporter": "python",
   "pygments_lexer": "ipython3",
   "version": "3.10.6"
  },
  "orig_nbformat": 4,
  "vscode": {
   "interpreter": {
    "hash": "3fc9533b3c372d74b1efdbdbaa77cda40593bea373886541625e28f7b11dec2f"
   }
  }
 },
 "nbformat": 4,
 "nbformat_minor": 2
}
